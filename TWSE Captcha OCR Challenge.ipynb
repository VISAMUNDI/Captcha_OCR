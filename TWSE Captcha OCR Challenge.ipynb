{
 "cells": [
  {
   "cell_type": "markdown",
   "metadata": {},
   "source": [
    "# TWSE Captcha OCR Challenge\n",
    "\n",
    "This is my practice project to get familiar with [OpenCV](http://opencv.org/) and [Tesseract](https://github.com/tesseract-ocr/tesseract). My goal is to recognize alphanumeric characters on images with noise. This practice use captchas on Taiwan Stock Exchange's [website](http://bsr.twse.com.tw/bshtm/) as the sample images. Beaware that you should follow TWSE's [user agreement](http://bsr.twse.com.tw/bshtm/use.htm) and not to abusive the website with the following script."
   ]
  },
  {
   "cell_type": "markdown",
   "metadata": {},
   "source": [
    "Before starting, don't forget to install all the packages needed in the practice:\n",
    "- [OpenCV](http://opencv.org/) and [pillow](https://python-pillow.org/)\n",
    "- [Tesseract](https://github.com/tesseract-ocr/tesseract) and [pytesseract](https://github.com/madmaze/pytesseract)\n",
    "- [Scipy](https://www.scipy.org/) and [Numpy](http://www.numpy.org/)\n",
    "- [Requests](http://docs.python-requests.org/en/master/) and [BeautifulSoup4](https://www.crummy.com/software/BeautifulSoup/)\n",
    "\n",
    "If you haven't already, I recommend you to install [Anaconda](https://www.continuum.io/downloads). It is a ditribute of Python with a lot of data science-related packages already installed and configed. This will save you a lot of troubles."
   ]
  },
  {
   "cell_type": "code",
   "execution_count": 1,
   "metadata": {
    "collapsed": false
   },
   "outputs": [],
   "source": [
    "import re\n",
    "import tempfile\n",
    "\n",
    "from PIL import Image, ImageEnhance\n",
    "from scipy.misc import toimage\n",
    "from IPython.display import display\n",
    "from pytesseract import image_to_string\n",
    "import numpy as np\n",
    "import cv2\n",
    "import requests\n",
    "from bs4 import BeautifulSoup"
   ]
  },
  {
   "cell_type": "markdown",
   "metadata": {
    "collapsed": true
   },
   "source": [
    "## Get the captch\n",
    "\n",
    "We first load our target web page where the captcha is at. With BeautifulSoup's help, we can quickly find the URL that leads to the captcha image file. We then download it to our local machine."
   ]
  },
  {
   "cell_type": "code",
   "execution_count": 2,
   "metadata": {
    "collapsed": false
   },
   "outputs": [],
   "source": [
    "def request_captcha():\n",
    "    # Where our captcha is at.\n",
    "    base_url = 'http://bsr.twse.com.tw/bshtm/'\n",
    "    page = requests.get(base_url + 'bsMenu.aspx')\n",
    "    \n",
    "    # Get the capthca on TWSE's website. It's the second image on the page.\n",
    "    soup = BeautifulSoup(page.content, 'html.parser')\n",
    "    img_url = soup.findAll('img')[1]['src']\n",
    "    \n",
    "    # Request the captch and write it to disk.\n",
    "    img = requests.get(base_url + img_url)\n",
    "    if img.status_code == 200:\n",
    "        img = img.content\n",
    "    else:\n",
    "        print('error')\n",
    "\n",
    "    return img"
   ]
  },
  {
   "cell_type": "markdown",
   "metadata": {},
   "source": [
    "## Clean the image\n",
    "We have to clean the captcha image first before Tesseract can have a good OCR result because of all the noise out there. After reading the captcha, I convert it to black and white first so we have a better contrast. Then I use [erode](http://docs.opencv.org/3.0-beta/doc/py_tutorials/py_imgproc/py_morphological_ops/py_morphological_ops.html) and [fastNlMeansDenoising](http://docs.opencv.org/2.4/modules/photo/doc/denoising.html) to remove all the dot noise and that weird line on the image. After this step, we have an image that is clean enough for Tesseract.\n",
    "\n",
    "You can try to adjust the shape and size of erode's kernal and h in fastNlMeansDenoising to get a better OCR accuracy."
   ]
  },
  {
   "cell_type": "code",
   "execution_count": 3,
   "metadata": {
    "collapsed": false
   },
   "outputs": [],
   "source": [
    "def clean_captcha(captcha):\n",
    "    # Convert the image file to a Numpy array and read it into a OpenCV file.\n",
    "    captcha = np.asarray(bytearray(captcha), dtype=\"uint8\")\n",
    "    captcha = cv2.imdecode(captcha, cv2.IMREAD_GRAYSCALE)\n",
    "    \n",
    "    # Let's first see what the original image looks like.\n",
    "    print('before:')\n",
    "    display(toimage(captcha))\n",
    "    \n",
    "    # Convert the captcha to black and white.\n",
    "    (thresh, captcha) = cv2.threshold(captcha, 128, 255, cv2.THRESH_BINARY | cv2.THRESH_OTSU)\n",
    "    \n",
    "    # Erode the image to remove dot noise and that wierd line. I use a 3x3 rectengal as the kernal.\n",
    "    captcha = cv2.erode(captcha, np.ones((3, 3), dtype=np.uint8))\n",
    "    \n",
    "    # Convert the image to black and white and again to further remove noise.\n",
    "    (thresh, captcha) = cv2.threshold(captcha, 128, 255, cv2.THRESH_BINARY | cv2.THRESH_OTSU)\n",
    "    \n",
    "    # Some cosmetic \n",
    "    captcha = cv2.fastNlMeansDenoising(captcha, h=50)\n",
    "    \n",
    "    # Turn the Numpy array back into a image\n",
    "    captcha = toimage(captcha)\n",
    "    \n",
    "    # Check the result of our cleaning process\n",
    "    print('after:')\n",
    "    display(captcha)\n",
    "    \n",
    "    return captcha"
   ]
  },
  {
   "cell_type": "markdown",
   "metadata": {},
   "source": [
    "## Get it all together\n",
    "\n",
    "Now, let's check how the script work. Run the script and see if the recognised charecters are correct."
   ]
  },
  {
   "cell_type": "code",
   "execution_count": 7,
   "metadata": {
    "collapsed": false
   },
   "outputs": [
    {
     "name": "stdout",
     "output_type": "stream",
     "text": [
      "before:\n"
     ]
    },
    {
     "data": {
      "image/png": "[encoded data removed]",
      "text/plain": [
       "<PIL.Image.Image image mode=L size=200x60 at 0x1038DF4D0>"
      ]
     },
     "metadata": {},
     "output_type": "display_data"
    },
    {
     "name": "stdout",
     "output_type": "stream",
     "text": [
      "after:\n"
     ]
    },
    {
     "data": {
      "image/png": "[encoded data removed]",
      "text/plain": [
       "<PIL.Image.Image image mode=L size=200x60 at 0x1038DF490>"
      ]
     },
     "metadata": {},
     "output_type": "display_data"
    },
    {
     "name": "stdout",
     "output_type": "stream",
     "text": [
      "U3UN4\n"
     ]
    }
   ],
   "source": [
    "captcha = clean_captcha(request_captcha())\n",
    "print re.sub('[^0-9A-Z]+', '', image_to_string(captcha).upper())"
   ]
  }
 ],
 "metadata": {
  "kernelspec": {
   "display_name": "Python 2",
   "language": "python",
   "name": "python2"
  },
  "language_info": {
   "codemirror_mode": {
    "name": "ipython",
    "version": 2
   },
   "file_extension": ".py",
   "mimetype": "text/x-python",
   "name": "python",
   "nbconvert_exporter": "python",
   "pygments_lexer": "ipython2",
   "version": "2.7.12"
  }
 },
 "nbformat": 4,
 "nbformat_minor": 0
}
